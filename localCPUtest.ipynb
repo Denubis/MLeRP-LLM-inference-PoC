{
 "cells": [
  {
   "cell_type": "code",
   "execution_count": 1,
   "id": "5c5c64cc-4011-4526-be67-81c5844351e4",
   "metadata": {},
   "outputs": [],
   "source": [
    "# https://huggingface.co/docs/transformers/llm_tutorial\n",
    "\n",
    "\n",
    "#https://www.perplexity.ai/search/in-jupyter-how-rP6KehSOTQq2Ik3aDW5Egg?s=c\n",
    "import importlib\n",
    "\n",
    "try:\n",
    "    importlib.import_module(\"torch\")    \n",
    "    importlib.import_module(\"transformers\")    \n",
    "except ImportError:\n",
    "    #!mamba install --quiet -c huggingface transformers -y\n",
    "    # no write access\n",
    "    !pipx install transformers torch torchvision torchaudio bitsandbytes\n",
    "\n",
    "    \n",
    "\n",
    "\n",
    "# Let's see if we have transformers\n",
    "from transformers import AutoModelForCausalLM, AutoTokenizer"
   ]
  },
  {
   "cell_type": "code",
   "execution_count": null,
   "id": "0045a4e5-09a8-45e7-bdda-344acd73c956",
   "metadata": {},
   "outputs": [],
   "source": []
  },
  {
   "cell_type": "code",
   "execution_count": 3,
   "id": "849bb8a0-bd37-4dae-a260-4d6afe885523",
   "metadata": {},
   "outputs": [
    {
     "data": {
      "application/vnd.jupyter.widget-view+json": {
       "model_id": "0688bf5eb57a438ba33b7e28fcd14c36",
       "version_major": 2,
       "version_minor": 0
      },
      "text/plain": [
       "Loading checkpoint shards:   0%|          | 0/2 [00:00<?, ?it/s]"
      ]
     },
     "metadata": {},
     "output_type": "display_data"
    },
    {
     "name": "stderr",
     "output_type": "stream",
     "text": [
      "WARNING:root:Some parameters are on the meta device device because they were offloaded to the cpu.\n",
      "Setting `pad_token_id` to `eos_token_id`:2 for open-end generation.\n"
     ]
    },
    {
     "name": "stdout",
     "output_type": "stream",
     "text": [
      "Hello my name is Katie and I am a 20 year old student from the UK. I am currently studying\n"
     ]
    }
   ],
   "source": [
    "\n",
    "model_id = \"mistralai/Mistral-7B-v0.1\"\n",
    "tokenizer = AutoTokenizer.from_pretrained(model_id, padding_side=\"left\")\n",
    "\n",
    "model = AutoModelForCausalLM.from_pretrained(model_id, device_map=\"auto\")\n",
    "\n",
    "text = \"Hello my name is\"\n",
    "inputs = tokenizer(text, return_tensors=\"pt\").to(\"cuda\")\n",
    "\n",
    "outputs = model.generate(**inputs, max_new_tokens=20)\n",
    "print(tokenizer.decode(outputs[0], skip_special_tokens=True))"
   ]
  }
 ],
 "metadata": {
  "kernelspec": {
   "display_name": "Python 3 (ipykernel)",
   "language": "python",
   "name": "python3"
  },
  "language_info": {
   "codemirror_mode": {
    "name": "ipython",
    "version": 3
   },
   "file_extension": ".py",
   "mimetype": "text/x-python",
   "name": "python",
   "nbconvert_exporter": "python",
   "pygments_lexer": "ipython3",
   "version": "3.11.6"
  }
 },
 "nbformat": 4,
 "nbformat_minor": 5
}
